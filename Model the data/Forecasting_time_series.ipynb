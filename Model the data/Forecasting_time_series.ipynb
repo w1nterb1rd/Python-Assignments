{
  "nbformat": 4,
  "nbformat_minor": 0,
  "metadata": {
    "colab": {
      "name": "Forecasting time series.ipynb",
      "provenance": [],
      "collapsed_sections": []
    },
    "kernelspec": {
      "name": "python3",
      "display_name": "Python 3"
    },
    "language_info": {
      "name": "python"
    }
  },
  "cells": [
    {
      "cell_type": "markdown",
      "source": [
        "# Time Series Forecasting"
      ],
      "metadata": {
        "id": "6zlgapxjton4"
      }
    },
    {
      "cell_type": "code",
      "source": [
        "import pandas as pd\n",
        "import numpy as np\n",
        "from matplotlib import pyplot as plt\n",
        "from sklearn.metrics import mean_absolute_error\n",
        "from pandas.plotting import autocorrelation_plot\n",
        "from statsmodels.tsa.arima_model import ARIMA"
      ],
      "metadata": {
        "colab": {
          "base_uri": "https://localhost:8080/"
        },
        "id": "6fMEOUWjtqSt",
        "outputId": "b5f60471-dfa2-4851-bf04-2254da9fc4b9"
      },
      "execution_count": null,
      "outputs": [
        {
          "output_type": "stream",
          "name": "stderr",
          "text": [
            "/usr/local/lib/python3.7/dist-packages/statsmodels/tools/_testing.py:19: FutureWarning: pandas.util.testing is deprecated. Use the functions in the public API at pandas.testing instead.\n",
            "  import pandas.util.testing as tm\n"
          ]
        }
      ]
    },
    {
      "cell_type": "code",
      "source": [
        "data = pd.read_excel('/content/Time series forcasting covid data.xlsx')\n",
        "data.head()"
      ],
      "metadata": {
        "colab": {
          "base_uri": "https://localhost:8080/",
          "height": 357
        },
        "id": "9ahGpIVkiGhh",
        "outputId": "f90b37d0-8ff1-45ca-df20-51ec4cba3494"
      },
      "execution_count": null,
      "outputs": [
        {
          "output_type": "execute_result",
          "data": {
            "text/plain": [
              "  iso_code location       date  new_deaths  new_cases  new_tests  \\\n",
              "0      IND    India 2021-01-16         181      15144     803090   \n",
              "1      IND    India 2021-01-17         145      13788     779377   \n",
              "2      IND    India 2021-01-18         137      10050     548168   \n",
              "3      IND    India 2021-01-19         162      13816     709791   \n",
              "4      IND    India 2021-01-20         151      15244     764120   \n",
              "\n",
              "   new_vaccinations  new_cases_per_thousand  new_tests_per_thousand  \\\n",
              "0            191181                  15.144                 803.090   \n",
              "1             33120                  13.788                 779.377   \n",
              "2            229748                  10.050                 548.168   \n",
              "3            220786                  13.816                 709.791   \n",
              "4            131649                  15.244                 764.120   \n",
              "\n",
              "   new_vaccination_per_thousand  stringency_index  \n",
              "0                       191.181             68.98  \n",
              "1                        33.120             68.98  \n",
              "2                       229.748             68.98  \n",
              "3                       220.786             68.98  \n",
              "4                       131.649             68.98  "
            ],
            "text/html": [
              "\n",
              "  <div id=\"df-34796584-d582-4bed-a1cb-1603d542c73d\">\n",
              "    <div class=\"colab-df-container\">\n",
              "      <div>\n",
              "<style scoped>\n",
              "    .dataframe tbody tr th:only-of-type {\n",
              "        vertical-align: middle;\n",
              "    }\n",
              "\n",
              "    .dataframe tbody tr th {\n",
              "        vertical-align: top;\n",
              "    }\n",
              "\n",
              "    .dataframe thead th {\n",
              "        text-align: right;\n",
              "    }\n",
              "</style>\n",
              "<table border=\"1\" class=\"dataframe\">\n",
              "  <thead>\n",
              "    <tr style=\"text-align: right;\">\n",
              "      <th></th>\n",
              "      <th>iso_code</th>\n",
              "      <th>location</th>\n",
              "      <th>date</th>\n",
              "      <th>new_deaths</th>\n",
              "      <th>new_cases</th>\n",
              "      <th>new_tests</th>\n",
              "      <th>new_vaccinations</th>\n",
              "      <th>new_cases_per_thousand</th>\n",
              "      <th>new_tests_per_thousand</th>\n",
              "      <th>new_vaccination_per_thousand</th>\n",
              "      <th>stringency_index</th>\n",
              "    </tr>\n",
              "  </thead>\n",
              "  <tbody>\n",
              "    <tr>\n",
              "      <th>0</th>\n",
              "      <td>IND</td>\n",
              "      <td>India</td>\n",
              "      <td>2021-01-16</td>\n",
              "      <td>181</td>\n",
              "      <td>15144</td>\n",
              "      <td>803090</td>\n",
              "      <td>191181</td>\n",
              "      <td>15.144</td>\n",
              "      <td>803.090</td>\n",
              "      <td>191.181</td>\n",
              "      <td>68.98</td>\n",
              "    </tr>\n",
              "    <tr>\n",
              "      <th>1</th>\n",
              "      <td>IND</td>\n",
              "      <td>India</td>\n",
              "      <td>2021-01-17</td>\n",
              "      <td>145</td>\n",
              "      <td>13788</td>\n",
              "      <td>779377</td>\n",
              "      <td>33120</td>\n",
              "      <td>13.788</td>\n",
              "      <td>779.377</td>\n",
              "      <td>33.120</td>\n",
              "      <td>68.98</td>\n",
              "    </tr>\n",
              "    <tr>\n",
              "      <th>2</th>\n",
              "      <td>IND</td>\n",
              "      <td>India</td>\n",
              "      <td>2021-01-18</td>\n",
              "      <td>137</td>\n",
              "      <td>10050</td>\n",
              "      <td>548168</td>\n",
              "      <td>229748</td>\n",
              "      <td>10.050</td>\n",
              "      <td>548.168</td>\n",
              "      <td>229.748</td>\n",
              "      <td>68.98</td>\n",
              "    </tr>\n",
              "    <tr>\n",
              "      <th>3</th>\n",
              "      <td>IND</td>\n",
              "      <td>India</td>\n",
              "      <td>2021-01-19</td>\n",
              "      <td>162</td>\n",
              "      <td>13816</td>\n",
              "      <td>709791</td>\n",
              "      <td>220786</td>\n",
              "      <td>13.816</td>\n",
              "      <td>709.791</td>\n",
              "      <td>220.786</td>\n",
              "      <td>68.98</td>\n",
              "    </tr>\n",
              "    <tr>\n",
              "      <th>4</th>\n",
              "      <td>IND</td>\n",
              "      <td>India</td>\n",
              "      <td>2021-01-20</td>\n",
              "      <td>151</td>\n",
              "      <td>15244</td>\n",
              "      <td>764120</td>\n",
              "      <td>131649</td>\n",
              "      <td>15.244</td>\n",
              "      <td>764.120</td>\n",
              "      <td>131.649</td>\n",
              "      <td>68.98</td>\n",
              "    </tr>\n",
              "  </tbody>\n",
              "</table>\n",
              "</div>\n",
              "      <button class=\"colab-df-convert\" onclick=\"convertToInteractive('df-34796584-d582-4bed-a1cb-1603d542c73d')\"\n",
              "              title=\"Convert this dataframe to an interactive table.\"\n",
              "              style=\"display:none;\">\n",
              "        \n",
              "  <svg xmlns=\"http://www.w3.org/2000/svg\" height=\"24px\"viewBox=\"0 0 24 24\"\n",
              "       width=\"24px\">\n",
              "    <path d=\"M0 0h24v24H0V0z\" fill=\"none\"/>\n",
              "    <path d=\"M18.56 5.44l.94 2.06.94-2.06 2.06-.94-2.06-.94-.94-2.06-.94 2.06-2.06.94zm-11 1L8.5 8.5l.94-2.06 2.06-.94-2.06-.94L8.5 2.5l-.94 2.06-2.06.94zm10 10l.94 2.06.94-2.06 2.06-.94-2.06-.94-.94-2.06-.94 2.06-2.06.94z\"/><path d=\"M17.41 7.96l-1.37-1.37c-.4-.4-.92-.59-1.43-.59-.52 0-1.04.2-1.43.59L10.3 9.45l-7.72 7.72c-.78.78-.78 2.05 0 2.83L4 21.41c.39.39.9.59 1.41.59.51 0 1.02-.2 1.41-.59l7.78-7.78 2.81-2.81c.8-.78.8-2.07 0-2.86zM5.41 20L4 18.59l7.72-7.72 1.47 1.35L5.41 20z\"/>\n",
              "  </svg>\n",
              "      </button>\n",
              "      \n",
              "  <style>\n",
              "    .colab-df-container {\n",
              "      display:flex;\n",
              "      flex-wrap:wrap;\n",
              "      gap: 12px;\n",
              "    }\n",
              "\n",
              "    .colab-df-convert {\n",
              "      background-color: #E8F0FE;\n",
              "      border: none;\n",
              "      border-radius: 50%;\n",
              "      cursor: pointer;\n",
              "      display: none;\n",
              "      fill: #1967D2;\n",
              "      height: 32px;\n",
              "      padding: 0 0 0 0;\n",
              "      width: 32px;\n",
              "    }\n",
              "\n",
              "    .colab-df-convert:hover {\n",
              "      background-color: #E2EBFA;\n",
              "      box-shadow: 0px 1px 2px rgba(60, 64, 67, 0.3), 0px 1px 3px 1px rgba(60, 64, 67, 0.15);\n",
              "      fill: #174EA6;\n",
              "    }\n",
              "\n",
              "    [theme=dark] .colab-df-convert {\n",
              "      background-color: #3B4455;\n",
              "      fill: #D2E3FC;\n",
              "    }\n",
              "\n",
              "    [theme=dark] .colab-df-convert:hover {\n",
              "      background-color: #434B5C;\n",
              "      box-shadow: 0px 1px 3px 1px rgba(0, 0, 0, 0.15);\n",
              "      filter: drop-shadow(0px 1px 2px rgba(0, 0, 0, 0.3));\n",
              "      fill: #FFFFFF;\n",
              "    }\n",
              "  </style>\n",
              "\n",
              "      <script>\n",
              "        const buttonEl =\n",
              "          document.querySelector('#df-34796584-d582-4bed-a1cb-1603d542c73d button.colab-df-convert');\n",
              "        buttonEl.style.display =\n",
              "          google.colab.kernel.accessAllowed ? 'block' : 'none';\n",
              "\n",
              "        async function convertToInteractive(key) {\n",
              "          const element = document.querySelector('#df-34796584-d582-4bed-a1cb-1603d542c73d');\n",
              "          const dataTable =\n",
              "            await google.colab.kernel.invokeFunction('convertToInteractive',\n",
              "                                                     [key], {});\n",
              "          if (!dataTable) return;\n",
              "\n",
              "          const docLinkHtml = 'Like what you see? Visit the ' +\n",
              "            '<a target=\"_blank\" href=https://colab.research.google.com/notebooks/data_table.ipynb>data table notebook</a>'\n",
              "            + ' to learn more about interactive tables.';\n",
              "          element.innerHTML = '';\n",
              "          dataTable['output_type'] = 'display_data';\n",
              "          await google.colab.output.renderOutput(dataTable, element);\n",
              "          const docLink = document.createElement('div');\n",
              "          docLink.innerHTML = docLinkHtml;\n",
              "          element.appendChild(docLink);\n",
              "        }\n",
              "      </script>\n",
              "    </div>\n",
              "  </div>\n",
              "  "
            ]
          },
          "metadata": {},
          "execution_count": 4
        }
      ]
    },
    {
      "cell_type": "code",
      "source": [
        "data['location'].unique()"
      ],
      "metadata": {
        "colab": {
          "base_uri": "https://localhost:8080/"
        },
        "id": "iJtP8RTjiUzX",
        "outputId": "12f0ecf0-a0a8-4ae5-d128-905a25ad16d0"
      },
      "execution_count": null,
      "outputs": [
        {
          "output_type": "execute_result",
          "data": {
            "text/plain": [
              "array(['India', 'Israel', 'Japan'], dtype=object)"
            ]
          },
          "metadata": {},
          "execution_count": 5
        }
      ]
    },
    {
      "cell_type": "code",
      "source": [
        "country = \"India\"\n",
        "data = data[data['location']==country]"
      ],
      "metadata": {
        "id": "4bZb-75SjCKn"
      },
      "execution_count": null,
      "outputs": []
    },
    {
      "cell_type": "code",
      "source": [
        "data['date'] = pd.to_datetime(data['date'])\n",
        "data.sort_values('date', ascending = True, inplace = True)\n",
        "data['date'].min(), data['date'].max()"
      ],
      "metadata": {
        "colab": {
          "base_uri": "https://localhost:8080/"
        },
        "id": "VkQqr_PjjZt5",
        "outputId": "f0f80d3b-3c9e-4740-8bf2-cc10c347e324"
      },
      "execution_count": null,
      "outputs": [
        {
          "output_type": "execute_result",
          "data": {
            "text/plain": [
              "(Timestamp('2021-01-16 00:00:00'), Timestamp('2021-07-05 00:00:00'))"
            ]
          },
          "metadata": {},
          "execution_count": 7
        }
      ]
    },
    {
      "cell_type": "code",
      "source": [
        "plt.xlabel('Date')\n",
        "plt.ylabel('New Deaths')\n",
        "plt.plot(data['date'], data['new_deaths'])"
      ],
      "metadata": {
        "colab": {
          "base_uri": "https://localhost:8080/",
          "height": 296
        },
        "id": "o798z4MUdE9v",
        "outputId": "64ed9823-b70f-41c5-ac9a-d4d7e48f3848"
      },
      "execution_count": null,
      "outputs": [
        {
          "output_type": "execute_result",
          "data": {
            "text/plain": [
              "[<matplotlib.lines.Line2D at 0x7f8d22bcfc10>]"
            ]
          },
          "metadata": {},
          "execution_count": 8
        },
        {
          "output_type": "display_data",
          "data": {
            "text/plain": [
              "<Figure size 432x288 with 1 Axes>"
            ],
            "image/png": "[encoded data removed]"
          },
          "metadata": {
            "needs_background": "light"
          }
        }
      ]
    },
    {
      "cell_type": "code",
      "source": [
        "rolling_mean5 = data['new_deaths'].rolling(window = 5).mean()\n",
        "rolling_mean10 = data['new_deaths'].rolling(window = 10).mean()\n",
        "rolling_mean15 = data['new_deaths'].rolling(window = 15).mean()\n",
        "rolling_mean20 = data['new_deaths'].rolling(window = 20).mean()\n",
        "# moving average of a window 5 here means average new deaths in the past five days for each day\n",
        "# eg, for Saturday, the avg will be for mon, tue, wed, thur, fri; for Sunday - tue, wed, thurs, fri, sat\n",
        "# pandas has function rolling with attribute window for this\n",
        "plt.plot(data['date'], data['new_deaths'], color = 'blue', label = 'Original')\n",
        "# assigning color and plotting original data\n",
        "plt.plot(data['date'], rolling_mean5, color = 'red', label = 'Rolling 5 day mean')\n",
        "plt.plot(data['date'], rolling_mean10, color = 'black', label = 'Rolling 10 day mean')\n",
        "plt.plot(data['date'], rolling_mean15, color = 'orange', label = 'Rolling 15 day mean')\n",
        "plt.plot(data['date'], rolling_mean20, color = 'green', label = 'Rolling 20 day mean')\n",
        "# assigning colors to the moving averages. Smaller windows are closer to original.\n",
        "plt.legend(loc = 'best')\n",
        "plt.title('Moving Average')\n",
        "plt.show()"
      ],
      "metadata": {
        "colab": {
          "base_uri": "https://localhost:8080/",
          "height": 281
        },
        "id": "8upKBaypeyjx",
        "outputId": "8124c3bc-ad94-4858-cdd5-9cae1e16f17d"
      },
      "execution_count": null,
      "outputs": [
        {
          "output_type": "display_data",
          "data": {
            "text/plain": [
              "<Figure size 432x288 with 1 Axes>"
            ],
            "image/png": "[encoded data removed]"
          },
          "metadata": {
            "needs_background": "light"
          }
        }
      ]
    },
    {
      "cell_type": "code",
      "source": [
        "data['moving_avg_5day'] = rolling_mean5\n",
        "data['moving_avg_10day'] = rolling_mean10\n",
        "data['moving_avg_15day'] = rolling_mean15\n",
        "data['moving_avg_20day'] = rolling_mean20\n",
        "# creating columns of moving averages in the data table\n",
        "data.head()"
      ],
      "metadata": {
        "colab": {
          "base_uri": "https://localhost:8080/",
          "height": 357
        },
        "id": "p_zSZG7Cko0H",
        "outputId": "d218b4cf-ea26-4923-ddb9-bd37a6d2001e"
      },
      "execution_count": null,
      "outputs": [
        {
          "output_type": "execute_result",
          "data": {
            "text/plain": [
              "  iso_code location       date  new_deaths  new_cases  new_tests  \\\n",
              "0      IND    India 2021-01-16         181      15144     803090   \n",
              "1      IND    India 2021-01-17         145      13788     779377   \n",
              "2      IND    India 2021-01-18         137      10050     548168   \n",
              "3      IND    India 2021-01-19         162      13816     709791   \n",
              "4      IND    India 2021-01-20         151      15244     764120   \n",
              "\n",
              "   new_vaccinations  new_cases_per_thousand  new_tests_per_thousand  \\\n",
              "0            191181                  15.144                 803.090   \n",
              "1             33120                  13.788                 779.377   \n",
              "2            229748                  10.050                 548.168   \n",
              "3            220786                  13.816                 709.791   \n",
              "4            131649                  15.244                 764.120   \n",
              "\n",
              "   new_vaccination_per_thousand  stringency_index  moving_avg_5day  \\\n",
              "0                       191.181             68.98              NaN   \n",
              "1                        33.120             68.98              NaN   \n",
              "2                       229.748             68.98              NaN   \n",
              "3                       220.786             68.98              NaN   \n",
              "4                       131.649             68.98            155.2   \n",
              "\n",
              "   moving_avg_10day  moving_avg_15day  moving_avg_20day  \n",
              "0               NaN               NaN               NaN  \n",
              "1               NaN               NaN               NaN  \n",
              "2               NaN               NaN               NaN  \n",
              "3               NaN               NaN               NaN  \n",
              "4               NaN               NaN               NaN  "
            ],
            "text/html": [
              "\n",
              "  <div id=\"df-c0217eba-0c8a-4cba-95c2-9b8d4a73e562\">\n",
              "    <div class=\"colab-df-container\">\n",
              "      <div>\n",
              "<style scoped>\n",
              "    .dataframe tbody tr th:only-of-type {\n",
              "        vertical-align: middle;\n",
              "    }\n",
              "\n",
              "    .dataframe tbody tr th {\n",
              "        vertical-align: top;\n",
              "    }\n",
              "\n",
              "    .dataframe thead th {\n",
              "        text-align: right;\n",
              "    }\n",
              "</style>\n",
              "<table border=\"1\" class=\"dataframe\">\n",
              "  <thead>\n",
              "    <tr style=\"text-align: right;\">\n",
              "      <th></th>\n",
              "      <th>iso_code</th>\n",
              "      <th>location</th>\n",
              "      <th>date</th>\n",
              "      <th>new_deaths</th>\n",
              "      <th>new_cases</th>\n",
              "      <th>new_tests</th>\n",
              "      <th>new_vaccinations</th>\n",
              "      <th>new_cases_per_thousand</th>\n",
              "      <th>new_tests_per_thousand</th>\n",
              "      <th>new_vaccination_per_thousand</th>\n",
              "      <th>stringency_index</th>\n",
              "      <th>moving_avg_5day</th>\n",
              "      <th>moving_avg_10day</th>\n",
              "      <th>moving_avg_15day</th>\n",
              "      <th>moving_avg_20day</th>\n",
              "    </tr>\n",
              "  </thead>\n",
              "  <tbody>\n",
              "    <tr>\n",
              "      <th>0</th>\n",
              "      <td>IND</td>\n",
              "      <td>India</td>\n",
              "      <td>2021-01-16</td>\n",
              "      <td>181</td>\n",
              "      <td>15144</td>\n",
              "      <td>803090</td>\n",
              "      <td>191181</td>\n",
              "      <td>15.144</td>\n",
              "      <td>803.090</td>\n",
              "      <td>191.181</td>\n",
              "      <td>68.98</td>\n",
              "      <td>NaN</td>\n",
              "      <td>NaN</td>\n",
              "      <td>NaN</td>\n",
              "      <td>NaN</td>\n",
              "    </tr>\n",
              "    <tr>\n",
              "      <th>1</th>\n",
              "      <td>IND</td>\n",
              "      <td>India</td>\n",
              "      <td>2021-01-17</td>\n",
              "      <td>145</td>\n",
              "      <td>13788</td>\n",
              "      <td>779377</td>\n",
              "      <td>33120</td>\n",
              "      <td>13.788</td>\n",
              "      <td>779.377</td>\n",
              "      <td>33.120</td>\n",
              "      <td>68.98</td>\n",
              "      <td>NaN</td>\n",
              "      <td>NaN</td>\n",
              "      <td>NaN</td>\n",
              "      <td>NaN</td>\n",
              "    </tr>\n",
              "    <tr>\n",
              "      <th>2</th>\n",
              "      <td>IND</td>\n",
              "      <td>India</td>\n",
              "      <td>2021-01-18</td>\n",
              "      <td>137</td>\n",
              "      <td>10050</td>\n",
              "      <td>548168</td>\n",
              "      <td>229748</td>\n",
              "      <td>10.050</td>\n",
              "      <td>548.168</td>\n",
              "      <td>229.748</td>\n",
              "      <td>68.98</td>\n",
              "      <td>NaN</td>\n",
              "      <td>NaN</td>\n",
              "      <td>NaN</td>\n",
              "      <td>NaN</td>\n",
              "    </tr>\n",
              "    <tr>\n",
              "      <th>3</th>\n",
              "      <td>IND</td>\n",
              "      <td>India</td>\n",
              "      <td>2021-01-19</td>\n",
              "      <td>162</td>\n",
              "      <td>13816</td>\n",
              "      <td>709791</td>\n",
              "      <td>220786</td>\n",
              "      <td>13.816</td>\n",
              "      <td>709.791</td>\n",
              "      <td>220.786</td>\n",
              "      <td>68.98</td>\n",
              "      <td>NaN</td>\n",
              "      <td>NaN</td>\n",
              "      <td>NaN</td>\n",
              "      <td>NaN</td>\n",
              "    </tr>\n",
              "    <tr>\n",
              "      <th>4</th>\n",
              "      <td>IND</td>\n",
              "      <td>India</td>\n",
              "      <td>2021-01-20</td>\n",
              "      <td>151</td>\n",
              "      <td>15244</td>\n",
              "      <td>764120</td>\n",
              "      <td>131649</td>\n",
              "      <td>15.244</td>\n",
              "      <td>764.120</td>\n",
              "      <td>131.649</td>\n",
              "      <td>68.98</td>\n",
              "      <td>155.2</td>\n",
              "      <td>NaN</td>\n",
              "      <td>NaN</td>\n",
              "      <td>NaN</td>\n",
              "    </tr>\n",
              "  </tbody>\n",
              "</table>\n",
              "</div>\n",
              "      <button class=\"colab-df-convert\" onclick=\"convertToInteractive('df-c0217eba-0c8a-4cba-95c2-9b8d4a73e562')\"\n",
              "              title=\"Convert this dataframe to an interactive table.\"\n",
              "              style=\"display:none;\">\n",
              "        \n",
              "  <svg xmlns=\"http://www.w3.org/2000/svg\" height=\"24px\"viewBox=\"0 0 24 24\"\n",
              "       width=\"24px\">\n",
              "    <path d=\"M0 0h24v24H0V0z\" fill=\"none\"/>\n",
              "    <path d=\"M18.56 5.44l.94 2.06.94-2.06 2.06-.94-2.06-.94-.94-2.06-.94 2.06-2.06.94zm-11 1L8.5 8.5l.94-2.06 2.06-.94-2.06-.94L8.5 2.5l-.94 2.06-2.06.94zm10 10l.94 2.06.94-2.06 2.06-.94-2.06-.94-.94-2.06-.94 2.06-2.06.94z\"/><path d=\"M17.41 7.96l-1.37-1.37c-.4-.4-.92-.59-1.43-.59-.52 0-1.04.2-1.43.59L10.3 9.45l-7.72 7.72c-.78.78-.78 2.05 0 2.83L4 21.41c.39.39.9.59 1.41.59.51 0 1.02-.2 1.41-.59l7.78-7.78 2.81-2.81c.8-.78.8-2.07 0-2.86zM5.41 20L4 18.59l7.72-7.72 1.47 1.35L5.41 20z\"/>\n",
              "  </svg>\n",
              "      </button>\n",
              "      \n",
              "  <style>\n",
              "    .colab-df-container {\n",
              "      display:flex;\n",
              "      flex-wrap:wrap;\n",
              "      gap: 12px;\n",
              "    }\n",
              "\n",
              "    .colab-df-convert {\n",
              "      background-color: #E8F0FE;\n",
              "      border: none;\n",
              "      border-radius: 50%;\n",
              "      cursor: pointer;\n",
              "      display: none;\n",
              "      fill: #1967D2;\n",
              "      height: 32px;\n",
              "      padding: 0 0 0 0;\n",
              "      width: 32px;\n",
              "    }\n",
              "\n",
              "    .colab-df-convert:hover {\n",
              "      background-color: #E2EBFA;\n",
              "      box-shadow: 0px 1px 2px rgba(60, 64, 67, 0.3), 0px 1px 3px 1px rgba(60, 64, 67, 0.15);\n",
              "      fill: #174EA6;\n",
              "    }\n",
              "\n",
              "    [theme=dark] .colab-df-convert {\n",
              "      background-color: #3B4455;\n",
              "      fill: #D2E3FC;\n",
              "    }\n",
              "\n",
              "    [theme=dark] .colab-df-convert:hover {\n",
              "      background-color: #434B5C;\n",
              "      box-shadow: 0px 1px 3px 1px rgba(0, 0, 0, 0.15);\n",
              "      filter: drop-shadow(0px 1px 2px rgba(0, 0, 0, 0.3));\n",
              "      fill: #FFFFFF;\n",
              "    }\n",
              "  </style>\n",
              "\n",
              "      <script>\n",
              "        const buttonEl =\n",
              "          document.querySelector('#df-c0217eba-0c8a-4cba-95c2-9b8d4a73e562 button.colab-df-convert');\n",
              "        buttonEl.style.display =\n",
              "          google.colab.kernel.accessAllowed ? 'block' : 'none';\n",
              "\n",
              "        async function convertToInteractive(key) {\n",
              "          const element = document.querySelector('#df-c0217eba-0c8a-4cba-95c2-9b8d4a73e562');\n",
              "          const dataTable =\n",
              "            await google.colab.kernel.invokeFunction('convertToInteractive',\n",
              "                                                     [key], {});\n",
              "          if (!dataTable) return;\n",
              "\n",
              "          const docLinkHtml = 'Like what you see? Visit the ' +\n",
              "            '<a target=\"_blank\" href=https://colab.research.google.com/notebooks/data_table.ipynb>data table notebook</a>'\n",
              "            + ' to learn more about interactive tables.';\n",
              "          element.innerHTML = '';\n",
              "          dataTable['output_type'] = 'display_data';\n",
              "          await google.colab.output.renderOutput(dataTable, element);\n",
              "          const docLink = document.createElement('div');\n",
              "          docLink.innerHTML = docLinkHtml;\n",
              "          element.appendChild(docLink);\n",
              "        }\n",
              "      </script>\n",
              "    </div>\n",
              "  </div>\n",
              "  "
            ]
          },
          "metadata": {},
          "execution_count": 10
        }
      ]
    },
    {
      "cell_type": "code",
      "source": [
        "data.dropna(inplace = True)\n",
        "# for moving averages, there will be some NA values because there is no past data for some initial values\n",
        "# drop NA removes those NAs from the list"
      ],
      "metadata": {
        "id": "oLCVF1L3wumq"
      },
      "execution_count": null,
      "outputs": []
    },
    {
      "cell_type": "code",
      "source": [
        "autocorrelation_plot(data['new_cases'])\n",
        "plt.show()\n",
        "\n",
        "# this plot helps us decide what window is suitable for moving average\n",
        "# the dotted lines are the statistical significance\n",
        "# we see positive correlation at first, then it becomes bad and later negatively corelated"
      ],
      "metadata": {
        "colab": {
          "base_uri": "https://localhost:8080/",
          "height": 283
        },
        "id": "14D0jY9zySCX",
        "outputId": "27f7392f-57e6-4634-dd64-a551486f7614"
      },
      "execution_count": null,
      "outputs": [
        {
          "output_type": "display_data",
          "data": {
            "text/plain": [
              "<Figure size 432x288 with 1 Axes>"
            ],
            "image/png": "[encoded data removed]"
          },
          "metadata": {
            "needs_background": "light"
          }
        }
      ]
    },
    {
      "cell_type": "code",
      "source": [
        "from statsmodels.graphics.tsaplots import plot_acf, plot_pacf\n",
        "import statsmodels.api as sm\n",
        "fig = plt.figure(figsize = (12,8))\n",
        "ax1 = fig.add_subplot(211)\n",
        "fig = sm.graphics.tsa.plot_acf(data['new_deaths'].dropna(), lags = 50, ax = ax1)\n",
        "ax2 = fig.add_subplot(212)\n",
        "fig = sm.graphics.tsa.plot_pacf(data['new_deaths'].dropna(), lags = 50, ax = ax2)\n",
        "\n",
        "# by increasing the scale of the lags, we notice a 4-5 day window is good, not more than that"
      ],
      "metadata": {
        "colab": {
          "base_uri": "https://localhost:8080/",
          "height": 499
        },
        "id": "siAJbgN11tyO",
        "outputId": "0472b6f5-08bb-4eea-9c43-1de454d0c56e"
      },
      "execution_count": null,
      "outputs": [
        {
          "output_type": "display_data",
          "data": {
            "text/plain": [
              "<Figure size 864x576 with 2 Axes>"
            ],
            "image/png": "[encoded data removed]"
          },
          "metadata": {
            "needs_background": "light"
          }
        }
      ]
    },
    {
      "cell_type": "code",
      "source": [
        "# 1,1,0 ARIMA Model\n",
        "model = ARIMA(data.new_deaths, order = (1,1,0))\n",
        "# order(how many lags, how many moving averages, )\n",
        "model_fit = model.fit()\n",
        "print(model_fit.summary())"
      ],
      "metadata": {
        "colab": {
          "base_uri": "https://localhost:8080/"
        },
        "id": "b-fs89wmA6us",
        "outputId": "a3b5b5c1-8baf-41fd-eda0-b782720971ba"
      },
      "execution_count": null,
      "outputs": [
        {
          "output_type": "stream",
          "name": "stdout",
          "text": [
            "                             ARIMA Model Results                              \n",
            "==============================================================================\n",
            "Dep. Variable:           D.new_deaths   No. Observations:                  136\n",
            "Model:                 ARIMA(1, 1, 0)   Log Likelihood               -1051.428\n",
            "Method:                       css-mle   S.D. of innovations            550.949\n",
            "Date:                Thu, 23 Jun 2022   AIC                           2108.857\n",
            "Time:                        07:36:11   BIC                           2117.595\n",
            "Sample:                             1   HQIC                          2112.408\n",
            "                                                                              \n",
            "======================================================================================\n",
            "                         coef    std err          z      P>|z|      [0.025      0.975]\n",
            "--------------------------------------------------------------------------------------\n",
            "const                  3.5772     34.798      0.103      0.918     -64.625      71.780\n",
            "ar.L1.D.new_deaths    -0.3603      0.080     -4.529      0.000      -0.516      -0.204\n",
            "                                    Roots                                    \n",
            "=============================================================================\n",
            "                  Real          Imaginary           Modulus         Frequency\n",
            "-----------------------------------------------------------------------------\n",
            "AR.1           -2.7754           +0.0000j            2.7754            0.5000\n",
            "-----------------------------------------------------------------------------\n"
          ]
        },
        {
          "output_type": "stream",
          "name": "stderr",
          "text": [
            "/usr/local/lib/python3.7/dist-packages/statsmodels/tsa/base/tsa_model.py:215: ValueWarning: An unsupported index was provided and will be ignored when e.g. forecasting.\n",
            "  ' ignored when e.g. forecasting.', ValueWarning)\n",
            "/usr/local/lib/python3.7/dist-packages/statsmodels/tsa/base/tsa_model.py:215: ValueWarning: An unsupported index was provided and will be ignored when e.g. forecasting.\n",
            "  ' ignored when e.g. forecasting.', ValueWarning)\n"
          ]
        }
      ]
    },
    {
      "cell_type": "code",
      "source": [
        "# 5,1,0 ARIMA Model\n",
        "model = ARIMA(data.new_deaths, order = (5,1,0))\n",
        "model_fit = model.fit()\n",
        "print(model_fit.summary())\n",
        "\n",
        "# checking the significance\n",
        "# p value close to |z| -> significant\n",
        "# lag 1 and 2 are significant\n"
      ],
      "metadata": {
        "colab": {
          "base_uri": "https://localhost:8080/"
        },
        "id": "aXrqETTrBaHQ",
        "outputId": "ad275656-46fb-4752-b997-3b06c0de2fa4"
      },
      "execution_count": null,
      "outputs": [
        {
          "output_type": "stream",
          "name": "stderr",
          "text": [
            "/usr/local/lib/python3.7/dist-packages/statsmodels/tsa/base/tsa_model.py:215: ValueWarning: An unsupported index was provided and will be ignored when e.g. forecasting.\n",
            "  ' ignored when e.g. forecasting.', ValueWarning)\n",
            "/usr/local/lib/python3.7/dist-packages/statsmodels/tsa/base/tsa_model.py:215: ValueWarning: An unsupported index was provided and will be ignored when e.g. forecasting.\n",
            "  ' ignored when e.g. forecasting.', ValueWarning)\n"
          ]
        },
        {
          "output_type": "stream",
          "name": "stdout",
          "text": [
            "                             ARIMA Model Results                              \n",
            "==============================================================================\n",
            "Dep. Variable:           D.new_deaths   No. Observations:                  136\n",
            "Model:                 ARIMA(5, 1, 0)   Log Likelihood               -1046.044\n",
            "Method:                       css-mle   S.D. of innovations            529.180\n",
            "Date:                Thu, 23 Jun 2022   AIC                           2106.088\n",
            "Time:                        07:42:06   BIC                           2126.477\n",
            "Sample:                             1   HQIC                          2114.373\n",
            "                                                                              \n",
            "======================================================================================\n",
            "                         coef    std err          z      P>|z|      [0.025      0.975]\n",
            "--------------------------------------------------------------------------------------\n",
            "const                  4.2889     24.706      0.174      0.862     -44.135      52.713\n",
            "ar.L1.D.new_deaths    -0.4356      0.085     -5.115      0.000      -0.602      -0.269\n",
            "ar.L2.D.new_deaths    -0.2243      0.092     -2.429      0.017      -0.405      -0.043\n",
            "ar.L3.D.new_deaths     0.0125      0.094      0.133      0.894      -0.172       0.197\n",
            "ar.L4.D.new_deaths    -0.1075      0.092     -1.174      0.243      -0.287       0.072\n",
            "ar.L5.D.new_deaths    -0.0948      0.084     -1.130      0.261      -0.259       0.070\n",
            "                                    Roots                                    \n",
            "=============================================================================\n",
            "                  Real          Imaginary           Modulus         Frequency\n",
            "-----------------------------------------------------------------------------\n",
            "AR.1            1.1312           -1.2178j            1.6622           -0.1309\n",
            "AR.2            1.1312           +1.2178j            1.6622            0.1309\n",
            "AR.3           -0.7268           -1.1987j            1.4018           -0.3368\n",
            "AR.4           -0.7268           +1.1987j            1.4018            0.3368\n",
            "AR.5           -1.9427           -0.0000j            1.9427           -0.5000\n",
            "-----------------------------------------------------------------------------\n"
          ]
        }
      ]
    },
    {
      "cell_type": "code",
      "source": [
        "X = data.new_deaths.values\n",
        "size = int(len(X)*0.90)\n",
        "train, test = X[0:size], X[size:len(X)]\n",
        "traindf, testdf = data[0:size], data[size:len(X)]\n",
        "history = [x for x in train]\n",
        "predictions = list()\n",
        "# dividing data - 90% train, 10% test\n",
        "\n",
        "\n",
        "for t in range(len(test)):\n",
        "  model = ARIMA(history, order = (1,1,0))\n",
        "  model_fit = model.fit()\n",
        "  output = model_fit.forecast()\n",
        "  yhat = output[0]\n",
        "  predictions.append(yhat)\n",
        "  obs = test[t]\n",
        "  history.append(obs)\n",
        "\n",
        "mae = mean_absolute_error(test, predictions)\n",
        "print('Test MAE: %.3f' % mae)\n",
        "\n",
        "plt.plot(predictions, color = 'red')\n",
        "plt.plot(test, color = 'blue')\n",
        "plt.show()\n",
        "\n",
        "mae5day = mean_absolute_error(testdf['new_deaths'], testdf['moving_avg_5day'])\n",
        "mae10day = mean_absolute_error(testdf['new_deaths'], testdf['moving_avg_10day'])\n",
        "mae15day = mean_absolute_error(testdf['new_deaths'], testdf['moving_avg_15day'])\n",
        "mae20day = mean_absolute_error(testdf['new_deaths'], testdf['moving_avg_20day'])\n",
        "\n",
        "print(f'Mean absolute error from 5day moving average prediction: {mae5day}')\n",
        "print(f'Mean absolute error from 10day moving average prediction: {mae10day}')\n",
        "print(f'Mean absolute error from 15day moving average prediction: {mae15day}')\n",
        "print(f'Mean absolute error from 20day moving average prediction: {mae20day}')"
      ],
      "metadata": {
        "colab": {
          "base_uri": "https://localhost:8080/",
          "height": 352
        },
        "id": "cDEYCNvsCJcW",
        "outputId": "7418d05a-55ea-4b44-f6c6-d1429323d95e"
      },
      "execution_count": null,
      "outputs": [
        {
          "output_type": "stream",
          "name": "stdout",
          "text": [
            "Test MAE: 133.595\n"
          ]
        },
        {
          "output_type": "display_data",
          "data": {
            "text/plain": [
              "<Figure size 432x288 with 1 Axes>"
            ],
            "image/png": "[encoded data removed]"
          },
          "metadata": {
            "needs_background": "light"
          }
        },
        {
          "output_type": "stream",
          "name": "stdout",
          "text": [
            "Mean absolute error from 5day moving average prediction: 110.38571428571426\n",
            "Mean absolute error from 10day moving average prediction: 297.4928571428572\n",
            "Mean absolute error from 15day moving average prediction: 670.4666666666666\n",
            "Mean absolute error from 20day moving average prediction: 991.2785714285712\n"
          ]
        }
      ]
    }
  ]
}